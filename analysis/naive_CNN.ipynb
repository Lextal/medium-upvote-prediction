{
 "cells": [
  {
   "cell_type": "code",
   "execution_count": 128,
   "metadata": {
    "collapsed": false
   },
   "outputs": [],
   "source": [
    "import json\n",
    "import pandas as pd\n",
    "import numpy as np\n",
    "import datetime\n",
    "import matplotlib.pyplot as plt\n",
    "\n",
    "from textstat.textstat import textstat\n",
    "\n",
    "%matplotlib inline"
   ]
  },
  {
   "cell_type": "markdown",
   "metadata": {},
   "source": [
    "### Loading data for selection"
   ]
  },
  {
   "cell_type": "code",
   "execution_count": 129,
   "metadata": {
    "collapsed": true
   },
   "outputs": [],
   "source": [
    "considered_samples = 10000\n",
    "values_per_label = 1250"
   ]
  },
  {
   "cell_type": "code",
   "execution_count": 130,
   "metadata": {
    "collapsed": false
   },
   "outputs": [],
   "source": [
    "columns_full = ['title', 'keywords', 'readingTime', 'text']\n",
    "columns = ['title', 'keywords', 'readingTime', 'text', 'num_images', 'num_tags', 'count_tag_fol', \n",
    "           'count_tag_posts', 'weekday', 'seconds', 'count_words', 'FK_grade']\n",
    "\n",
    "def get_short_info(obj):\n",
    "    return [obj['likes']]\n",
    "\n",
    "def get_full_info(obj):\n",
    "    res = []\n",
    "    for col in columns_full:\n",
    "        if col == 'keywords':\n",
    "            res.append(' '.join(obj[col]))\n",
    "        else:\n",
    "            res.append(obj[col])\n",
    "            \n",
    "    res.append(len(obj['images']))\n",
    "    res.append(len(obj['tags']))\n",
    "    res.append(sum(list(map(lambda x: x['followerCount'], obj['tags']))))\n",
    "    res.append(sum(list(map(lambda x: x['postCount'], obj['tags']))))\n",
    "    \n",
    "    date = datetime.datetime.fromtimestamp(float(obj['date']['$numberLong'])/1000.)\n",
    "    res.append(date.weekday())\n",
    "    res.append(date.hour*60*60 + date.minute*60 + date.second)\n",
    "    res.append(len(obj['text'].split(' ')))\n",
    "    if obj['text'] == '':\n",
    "        res.append(0)\n",
    "    else:\n",
    "        res.append(textstat.flesch_kincaid_grade(obj['text']))\n",
    "    \n",
    "    return res\n",
    "\n",
    "data = []\n",
    "ind = []\n",
    "\n",
    "for i, l in enumerate(open('data/medium.json')):\n",
    "    obj = json.loads(l)\n",
    "    ind.append(obj['id'])\n",
    "    data.append(get_short_info(obj))\n",
    "    if len(data) > considered_samples:\n",
    "        break"
   ]
  },
  {
   "cell_type": "code",
   "execution_count": 131,
   "metadata": {
    "collapsed": false
   },
   "outputs": [
    {
     "name": "stdout",
     "output_type": "stream",
     "text": [
      "839\n",
      "3401\n",
      "2005\n",
      "3756\n"
     ]
    }
   ],
   "source": [
    "df = pd.DataFrame(data, index=ind, columns=['likes'])\n",
    "\n",
    "df['group'] = 0\n",
    "borders = [1e-20, 2, 4, np.inf]\n",
    "\n",
    "print(len(df[df.likes == 0]))\n",
    "\n",
    "bins = [df[df.likes == 0].sample(values_per_label, replace=True)]\n",
    "for i in range(1, len(borders)):\n",
    "    ins = np.logical_and(np.log1p(df.likes) < borders[i], np.log1p(df.likes) >= borders[i-1])\n",
    "    print(len(df[ins]))\n",
    "    df.loc[ins, 'group'] = i\n",
    "    bins.append(df[ins].sample(values_per_label, replace=True))\n",
    "    \n",
    "df = pd.concat(bins)"
   ]
  },
  {
   "cell_type": "code",
   "execution_count": 132,
   "metadata": {
    "collapsed": false
   },
   "outputs": [
    {
     "name": "stdout",
     "output_type": "stream",
     "text": [
      "..........."
     ]
    }
   ],
   "source": [
    "ind = df.index\n",
    "new_info = {}\n",
    "\n",
    "count = 0\n",
    "for i, l in enumerate(open('data/medium.json')):\n",
    "    obj = json.loads(l)\n",
    "    if i > considered_samples:\n",
    "        break\n",
    "    if i % 1000 == 0:\n",
    "        print('.', end='')\n",
    "    if obj['id'] in ind and obj['id'] not in new_info:\n",
    "        new_info[obj['id']] = get_full_info(obj)"
   ]
  },
  {
   "cell_type": "code",
   "execution_count": 133,
   "metadata": {
    "collapsed": false
   },
   "outputs": [
    {
     "data": {
      "text/html": [
       "<div>\n",
       "<table border=\"1\" class=\"dataframe\">\n",
       "  <thead>\n",
       "    <tr style=\"text-align: right;\">\n",
       "      <th></th>\n",
       "      <th>likes</th>\n",
       "      <th>group</th>\n",
       "      <th>title</th>\n",
       "      <th>keywords</th>\n",
       "      <th>readingTime</th>\n",
       "      <th>text</th>\n",
       "      <th>num_images</th>\n",
       "      <th>num_tags</th>\n",
       "      <th>count_tag_fol</th>\n",
       "      <th>count_tag_posts</th>\n",
       "      <th>weekday</th>\n",
       "      <th>seconds</th>\n",
       "      <th>count_words</th>\n",
       "      <th>FK_grade</th>\n",
       "    </tr>\n",
       "  </thead>\n",
       "  <tbody>\n",
       "    <tr>\n",
       "      <th>1029b4c4909a</th>\n",
       "      <td>0</td>\n",
       "      <td>0</td>\n",
       "      <td>Ain’t no crime…</td>\n",
       "      <td>Podcast Serial Reply All</td>\n",
       "      <td>3.621698</td>\n",
       "      <td>America knows how to knock out a proper crime ...</td>\n",
       "      <td>3</td>\n",
       "      <td>3</td>\n",
       "      <td>1070</td>\n",
       "      <td>12115</td>\n",
       "      <td>1</td>\n",
       "      <td>5164</td>\n",
       "      <td>791</td>\n",
       "      <td>11.1</td>\n",
       "    </tr>\n",
       "    <tr>\n",
       "      <th>103d43a0319c</th>\n",
       "      <td>18</td>\n",
       "      <td>2</td>\n",
       "      <td>For Post-9/11 Veterans, the Best Thank You Is ...</td>\n",
       "      <td>Military Veterans Philanthropy</td>\n",
       "      <td>3.636164</td>\n",
       "      <td>Matt Richtel’s recent New York Times piece on ...</td>\n",
       "      <td>2</td>\n",
       "      <td>3</td>\n",
       "      <td>967</td>\n",
       "      <td>8957</td>\n",
       "      <td>1</td>\n",
       "      <td>75231</td>\n",
       "      <td>810</td>\n",
       "      <td>9.9</td>\n",
       "    </tr>\n",
       "    <tr>\n",
       "      <th>103d43a0319c</th>\n",
       "      <td>18</td>\n",
       "      <td>2</td>\n",
       "      <td>For Post-9/11 Veterans, the Best Thank You Is ...</td>\n",
       "      <td>Military Veterans Philanthropy</td>\n",
       "      <td>3.636164</td>\n",
       "      <td>Matt Richtel’s recent New York Times piece on ...</td>\n",
       "      <td>2</td>\n",
       "      <td>3</td>\n",
       "      <td>967</td>\n",
       "      <td>8957</td>\n",
       "      <td>1</td>\n",
       "      <td>75231</td>\n",
       "      <td>810</td>\n",
       "      <td>9.9</td>\n",
       "    </tr>\n",
       "    <tr>\n",
       "      <th>10492495c715</th>\n",
       "      <td>7120</td>\n",
       "      <td>3</td>\n",
       "      <td>There is something extraordinary happening in ...</td>\n",
       "      <td>Entrepreneurship Sharing Economy Social Media ...</td>\n",
       "      <td>5.162264</td>\n",
       "      <td>Most of us haven’t quite realized there is som...</td>\n",
       "      <td>1</td>\n",
       "      <td>3</td>\n",
       "      <td>631922</td>\n",
       "      <td>95507</td>\n",
       "      <td>2</td>\n",
       "      <td>12751</td>\n",
       "      <td>1217</td>\n",
       "      <td>6.2</td>\n",
       "    </tr>\n",
       "    <tr>\n",
       "      <th>1053559b1e42</th>\n",
       "      <td>1</td>\n",
       "      <td>1</td>\n",
       "      <td>Kirkpatrick to McCain: forget about ‘the conse...</td>\n",
       "      <td>Donald Trump Politics Arizona</td>\n",
       "      <td>0.260377</td>\n",
       "      <td>After the bombshell from The Washington Post e...</td>\n",
       "      <td>0</td>\n",
       "      <td>3</td>\n",
       "      <td>535679</td>\n",
       "      <td>143961</td>\n",
       "      <td>5</td>\n",
       "      <td>21141</td>\n",
       "      <td>47</td>\n",
       "      <td>20.4</td>\n",
       "    </tr>\n",
       "  </tbody>\n",
       "</table>\n",
       "</div>"
      ],
      "text/plain": [
       "              likes  group                                              title  \\\n",
       "1029b4c4909a      0      0                                    Ain’t no crime…   \n",
       "103d43a0319c     18      2  For Post-9/11 Veterans, the Best Thank You Is ...   \n",
       "103d43a0319c     18      2  For Post-9/11 Veterans, the Best Thank You Is ...   \n",
       "10492495c715   7120      3  There is something extraordinary happening in ...   \n",
       "1053559b1e42      1      1  Kirkpatrick to McCain: forget about ‘the conse...   \n",
       "\n",
       "                                                       keywords  readingTime  \\\n",
       "1029b4c4909a                           Podcast Serial Reply All     3.621698   \n",
       "103d43a0319c                     Military Veterans Philanthropy     3.636164   \n",
       "103d43a0319c                     Military Veterans Philanthropy     3.636164   \n",
       "10492495c715  Entrepreneurship Sharing Economy Social Media ...     5.162264   \n",
       "1053559b1e42                      Donald Trump Politics Arizona     0.260377   \n",
       "\n",
       "                                                           text  num_images  \\\n",
       "1029b4c4909a  America knows how to knock out a proper crime ...           3   \n",
       "103d43a0319c  Matt Richtel’s recent New York Times piece on ...           2   \n",
       "103d43a0319c  Matt Richtel’s recent New York Times piece on ...           2   \n",
       "10492495c715  Most of us haven’t quite realized there is som...           1   \n",
       "1053559b1e42  After the bombshell from The Washington Post e...           0   \n",
       "\n",
       "              num_tags  count_tag_fol  count_tag_posts  weekday  seconds  \\\n",
       "1029b4c4909a         3           1070            12115        1     5164   \n",
       "103d43a0319c         3            967             8957        1    75231   \n",
       "103d43a0319c         3            967             8957        1    75231   \n",
       "10492495c715         3         631922            95507        2    12751   \n",
       "1053559b1e42         3         535679           143961        5    21141   \n",
       "\n",
       "              count_words  FK_grade  \n",
       "1029b4c4909a          791      11.1  \n",
       "103d43a0319c          810       9.9  \n",
       "103d43a0319c          810       9.9  \n",
       "10492495c715         1217       6.2  \n",
       "1053559b1e42           47      20.4  "
      ]
     },
     "execution_count": 133,
     "metadata": {},
     "output_type": "execute_result"
    }
   ],
   "source": [
    "new_df = pd.DataFrame.from_dict(new_info, orient='index')\n",
    "new_df.columns = columns\n",
    "df = pd.merge(df, new_df, 'inner', left_index=True, right_index=True)\n",
    "\n",
    "df.head()"
   ]
  },
  {
   "cell_type": "markdown",
   "metadata": {},
   "source": [
    "### Prepare text features"
   ]
  },
  {
   "cell_type": "code",
   "execution_count": 134,
   "metadata": {
    "collapsed": false
   },
   "outputs": [
    {
     "name": "stdout",
     "output_type": "stream",
     "text": [
      "..............."
     ]
    }
   ],
   "source": [
    "import re\n",
    "from nltk.tokenize import RegexpTokenizer\n",
    "from collections import Counter,defaultdict\n",
    "\n",
    "tokenizer = RegexpTokenizer(r\"\\w+\", flags=re.UNICODE)\n",
    "token_counts = Counter()\n",
    "all_texts = np.hstack([df.text.values,df.title.values,df.keywords])\n",
    "\n",
    "for i, s in enumerate(all_texts):\n",
    "    if type(s) is not str:\n",
    "        continue\n",
    "    if i % 1000 == 0:\n",
    "        print('.', end='')\n",
    "    token_counts.update(tokenizer.tokenize(s.lower()))"
   ]
  },
  {
   "cell_type": "code",
   "execution_count": 135,
   "metadata": {
    "collapsed": false
   },
   "outputs": [
    {
     "data": {
      "text/plain": [
       "<matplotlib.text.Text at 0x115499128>"
      ]
     },
     "execution_count": 135,
     "metadata": {},
     "output_type": "execute_result"
    },
    {
     "data": {
      "image/png": "[encoded data removed]",
      "text/plain": [
       "<matplotlib.figure.Figure at 0x11238a518>"
      ]
     },
     "metadata": {},
     "output_type": "display_data"
    }
   ],
   "source": [
    "plt.hist(list(token_counts.values()),range=[0,50],bins=50);\n",
    "plt.title('Top 50 words')\n",
    "plt.xlabel('Rank')\n",
    "plt.ylabel('frequency')"
   ]
  },
  {
   "cell_type": "code",
   "execution_count": 136,
   "metadata": {
    "collapsed": false
   },
   "outputs": [],
   "source": [
    "min_count = 10\n",
    "tokens = [t for t in token_counts if token_counts[t] >= min_count]"
   ]
  },
  {
   "cell_type": "code",
   "execution_count": 137,
   "metadata": {
    "collapsed": false
   },
   "outputs": [
    {
     "name": "stdout",
     "output_type": "stream",
     "text": [
      "Tokens: 22162\n"
     ]
    }
   ],
   "source": [
    "token_to_id = {t:i+1 for i,t in enumerate(tokens)}\n",
    "null_token = \"NULL\"\n",
    "token_to_id[null_token] = 0\n",
    "print(\"Tokens:\",len(token_to_id))"
   ]
  },
  {
   "cell_type": "markdown",
   "metadata": {},
   "source": [
    "### Cutting text\n",
    "\n",
    "Max length:\n",
    "* title: 15 words;\n",
    "* text: 1200 words;\n",
    "* keywords: 10 words."
   ]
  },
  {
   "cell_type": "code",
   "execution_count": 138,
   "metadata": {
    "collapsed": false
   },
   "outputs": [
    {
     "data": {
      "image/png": "[encoded data removed]",
      "text/plain": [
       "<matplotlib.figure.Figure at 0x1120913c8>"
      ]
     },
     "metadata": {},
     "output_type": "display_data"
    }
   ],
   "source": [
    "plt.figure(figsize=(12,4))\n",
    "plt.subplot(1,3,1)\n",
    "plt.title('Title')\n",
    "plt.hist([len(tokenizer.tokenize(s.lower())) for s in df.title.values], range=(0,20))\n",
    "plt.xlabel(\"length\")\n",
    "plt.ylabel('frequency')\n",
    "plt.subplot(1,3,2)\n",
    "plt.title('text')\n",
    "plt.hist([len(tokenizer.tokenize(s.lower())) for s in df.text.values], range=(0,3000))\n",
    "plt.xlabel(\"length\")\n",
    "plt.subplot(1,3,3)\n",
    "plt.title('keywords')\n",
    "plt.xlabel(\"length\")\n",
    "plt.hist([len(tokenizer.tokenize(s.lower())) for s in df.keywords.values], range=(0,15));"
   ]
  },
  {
   "cell_type": "code",
   "execution_count": 139,
   "metadata": {
    "collapsed": true
   },
   "outputs": [],
   "source": [
    "def vectorize(strings, token_to_id, max_len=1000):\n",
    "    token_matrix = []\n",
    "    for s in strings:\n",
    "        if type(s) is not str:\n",
    "            token_matrix.append([0]*max_len)\n",
    "            continue\n",
    "        s = s.lower()\n",
    "        tokens = tokenizer.tokenize(s)\n",
    "        token_ids = list(map(lambda token: token_to_id.get(token,0), tokens))[:max_len]\n",
    "        token_ids += [0]*(max_len - len(token_ids))\n",
    "        token_matrix.append(token_ids)\n",
    "\n",
    "    return np.array(token_matrix)"
   ]
  },
  {
   "cell_type": "markdown",
   "metadata": {},
   "source": [
    "### Train/test splitting"
   ]
  },
  {
   "cell_type": "code",
   "execution_count": 140,
   "metadata": {
    "collapsed": false
   },
   "outputs": [
    {
     "name": "stdout",
     "output_type": "stream",
     "text": [
      "Text OK\n",
      "Title OK\n",
      "Keywords OK\n"
     ]
    }
   ],
   "source": [
    "text_tokens = vectorize(df.text.values,token_to_id,max_len = 1200)\n",
    "print('Text OK')\n",
    "title_tokens = vectorize(df.title.values,token_to_id,max_len = 15)\n",
    "print('Title OK')\n",
    "keywords_tokens = vectorize(df.keywords,token_to_id,max_len = 10)\n",
    "print('Keywords OK')\n"
   ]
  },
  {
   "cell_type": "code",
   "execution_count": 141,
   "metadata": {
    "collapsed": false
   },
   "outputs": [],
   "source": [
    "indexes = df.index.values\n",
    "target = df.group.values.astype('int8')\n",
    "\n",
    "title_tokens = title_tokens.astype('int32')\n",
    "text_tokens = text_tokens.astype('int32')\n",
    "keywords_tokens = keywords_tokens.astype('int32')\n",
    "\n",
    "num_cols = ['readingTime', 'num_images', 'num_tags', 'count_tag_fol', 'count_tag_posts', 'weekday', 'seconds', 'count_words']\n",
    "df_non_text = df[num_cols].values.astype('float32')"
   ]
  },
  {
   "cell_type": "code",
   "execution_count": 142,
   "metadata": {
    "collapsed": false
   },
   "outputs": [],
   "source": [
    "from sklearn.model_selection import train_test_split\n",
    "data_tuple = train_test_split(indexes,title_tokens,text_tokens,keywords_tokens,df_non_text,target)\n",
    "\n",
    "ind_tr,ind_ts,title_tr,title_ts,text_tr,text_ts,keyw_tr,keyw_ts,nontext_tr,nontext_ts,target_tr,target_ts = data_tuple"
   ]
  },
  {
   "cell_type": "markdown",
   "metadata": {
    "collapsed": false
   },
   "source": [
    "### Save (load) progress"
   ]
  },
  {
   "cell_type": "code",
   "execution_count": 143,
   "metadata": {
    "collapsed": false
   },
   "outputs": [],
   "source": [
    "import pickle\n",
    "\n",
    "# Save\n",
    "\n",
    "with open(\"preprocessed_data_small.pcl\",'wb') as fout:\n",
    "    pickle.dump(data_tuple,fout)\n",
    "with open(\"token_to_id_small.pcl\",'wb') as fout:\n",
    "    pickle.dump(token_to_id,fout)\n",
    "\n",
    "# Load\n",
    "\n",
    "# with open(\"preprocessed_data.pcl\",'rb') as fin:\n",
    "#     data_tuple = pickle.load(fin)\n",
    "# ind_tr,ind_ts,title_tr,title_ts,text_tr,text_ts,keyw_tr,keyw_ts,nontext_tr,nontext_ts,target_tr,target_ts = data_tuple\n",
    "# with open(\"token_to_id.pcl\",'rb') as fin:\n",
    "#     token_to_id = pickle.load(fin)"
   ]
  },
  {
   "cell_type": "code",
   "execution_count": 206,
   "metadata": {
    "collapsed": true
   },
   "outputs": [],
   "source": [
    "###############################################\n",
    "## If you want to append some extra features ##\n",
    "##      there is the best place for them     ##\n",
    "###############################################"
   ]
  },
  {
   "cell_type": "markdown",
   "metadata": {},
   "source": [
    "### NN Stuff"
   ]
  },
  {
   "cell_type": "code",
   "execution_count": 144,
   "metadata": {
    "collapsed": false
   },
   "outputs": [],
   "source": [
    "import lasagne\n",
    "from theano import tensor as T\n",
    "import theano\n",
    "\n",
    "title_token_ids = T.matrix(\"title_token_ids\",dtype='int32')\n",
    "text_token_ids = T.matrix(\"text_token_ids\",dtype='int32')\n",
    "keyw_token_ids = T.matrix(\"keyw_token_ids\",dtype='int32')\n",
    "non_text = T.matrix(\"non_text\",dtype='float32')\n",
    "target_y = T.ivector(\"group\")"
   ]
  },
  {
   "cell_type": "code",
   "execution_count": 145,
   "metadata": {
    "collapsed": false
   },
   "outputs": [],
   "source": [
    "###########\n",
    "## Input ##\n",
    "###########\n",
    "\n",
    "title_inp = lasagne.layers.InputLayer((None,title_tr.shape[1]),input_var=title_token_ids)\n",
    "text_inp = lasagne.layers.InputLayer((None,text_tr.shape[1]),input_var=text_token_ids)\n",
    "keyw_inp = lasagne.layers.InputLayer((None,keyw_tr.shape[1]),input_var=keyw_token_ids)\n",
    "cat_inp = lasagne.layers.InputLayer((None,df_non_text.shape[1]), input_var=non_text)\n",
    "\n",
    "####################\n",
    "## Parallel Convs ##\n",
    "####################\n",
    "\n",
    "text_nn = lasagne.layers.EmbeddingLayer(text_inp,input_size=len(token_to_id)+1,output_size=128)\n",
    "text_nn = lasagne.layers.DimshuffleLayer(text_nn, [0,2,1])\n",
    "text_nn = lasagne.layers.Conv1DLayer(text_nn,num_filters=128,filter_size=3)\n",
    "text_nn = lasagne.layers.GlobalPoolLayer(text_nn)\n",
    "\n",
    "title_nn = lasagne.layers.EmbeddingLayer(title_inp, input_size=len(token_to_id)+1, output_size=128)\n",
    "title_nn = lasagne.layers.DimshuffleLayer(title_nn, [0,2,1])\n",
    "title_nn = lasagne.layers.Conv1DLayer(title_nn, num_filters=128, filter_size=3)\n",
    "title_nn = lasagne.layers.GlobalPoolLayer(title_nn)\n",
    "\n",
    "keyw_nn = lasagne.layers.EmbeddingLayer(keyw_inp, input_size=len(token_to_id)+1, output_size=128)\n",
    "keyw_nn = lasagne.layers.DimshuffleLayer(keyw_nn, [0,2,1])\n",
    "keyw_nn = lasagne.layers.Conv1DLayer(keyw_nn, num_filters=128, filter_size=3)\n",
    "keyw_nn = lasagne.layers.GlobalPoolLayer(keyw_nn)\n",
    "\n",
    "cat_nn = lasagne.layers.DenseLayer(cat_inp, 128)\n",
    "\n",
    "########################\n",
    "## Merging and Output ##\n",
    "########################\n",
    "\n",
    "nn = lasagne.layers.concat([text_nn, title_nn, keyw_nn, cat_nn])                               \n",
    "nn = lasagne.layers.DenseLayer(nn,1024, nonlinearity=lasagne.nonlinearities.sigmoid)\n",
    "nn = lasagne.layers.DropoutLayer(nn,p=0.05)\n",
    "nn = lasagne.layers.DenseLayer(nn,4,nonlinearity=lasagne.nonlinearities.softmax)"
   ]
  },
  {
   "cell_type": "code",
   "execution_count": 146,
   "metadata": {
    "collapsed": false
   },
   "outputs": [],
   "source": [
    "weights = lasagne.layers.get_all_params(nn,trainable=True)\n",
    "prediction = lasagne.layers.get_output(nn)\n",
    "\n",
    "loss = lasagne.objectives.multiclass_hinge_loss(prediction, target_y).mean()\n",
    "updates = lasagne.updates.adam(loss, weights)\n",
    "\n",
    "det_prediction = lasagne.layers.get_output(nn,deterministic=True)\n",
    "det_loss = lasagne.objectives.multiclass_hinge_loss(det_prediction, target_y).mean()"
   ]
  },
  {
   "cell_type": "code",
   "execution_count": 147,
   "metadata": {
    "collapsed": false
   },
   "outputs": [],
   "source": [
    "train_fun = theano.function([text_token_ids,title_token_ids,keyw_token_ids,non_text,target_y],[loss,prediction],updates = updates)\n",
    "eval_fun = theano.function([text_token_ids,title_token_ids,keyw_token_ids,non_text,target_y],[det_loss,det_prediction])"
   ]
  },
  {
   "cell_type": "markdown",
   "metadata": {
    "collapsed": false
   },
   "source": [
    "### Minibatch training"
   ]
  },
  {
   "cell_type": "code",
   "execution_count": 148,
   "metadata": {
    "collapsed": false
   },
   "outputs": [],
   "source": [
    "def iterate_minibatches(*arrays,**kwargs):\n",
    "    \n",
    "    batchsize=kwargs.get(\"batchsize\",100)\n",
    "    shuffle = kwargs.get(\"shuffle\",True)\n",
    "    \n",
    "    if shuffle:\n",
    "        indices = np.arange(len(arrays[0]))\n",
    "        np.random.shuffle(indices)\n",
    "    for start_idx in range(0, len(arrays[0]) - batchsize + 1, batchsize):\n",
    "        if shuffle:\n",
    "            excerpt = indices[start_idx:start_idx + batchsize]\n",
    "        else:\n",
    "            excerpt = slice(start_idx, start_idx + batchsize)\n",
    "        yield [arr[excerpt] for arr in arrays]"
   ]
  },
  {
   "cell_type": "code",
   "execution_count": 151,
   "metadata": {
    "collapsed": false
   },
   "outputs": [
    {
     "name": "stdout",
     "output_type": "stream",
     "text": [
      ".....................................\n",
      "Train:\n",
      "\tAverage loss: 1.05575221959\n",
      "\tAUC: ['0.604', '0.503', '0.512', '0.553']\n",
      "\tPR AUC: ['0.327', '0.250', '0.266', '0.272']\n",
      "Val:\n",
      "\tAverage loss: 1.0233157814\n",
      "\tAUC: ['0.625', '0.517', '0.496', '0.620']\n",
      "\tPR AUC: ['0.378', '0.271', '0.237', '0.291']\n",
      ".....................................\n",
      "Train:\n",
      "\tAverage loss: 1.05308888964\n",
      "\tAUC: ['0.604', '0.517', '0.512', '0.552']\n",
      "\tPR AUC: ['0.331', '0.262', '0.263', '0.279']\n",
      "Val:\n",
      "\tAverage loss: 1.02923792065\n",
      "\tAUC: ['0.631', '0.517', '0.501', '0.409']\n",
      "\tPR AUC: ['0.382', '0.254', '0.229', '0.219']\n",
      "......."
     ]
    },
    {
     "ename": "KeyboardInterrupt",
     "evalue": "",
     "output_type": "error",
     "traceback": [
      "\u001b[0;31m---------------------------------------------------------------------------\u001b[0m",
      "\u001b[0;31mKeyboardInterrupt\u001b[0m                         Traceback (most recent call last)",
      "\u001b[0;32m<ipython-input-151-31f091bf17e4>\u001b[0m in \u001b[0;36m<module>\u001b[0;34m()\u001b[0m\n\u001b[1;32m     20\u001b[0m         \u001b[0;32mif\u001b[0m \u001b[0mj\u001b[0m \u001b[0;34m>\u001b[0m \u001b[0mminibatches_per_epoch\u001b[0m\u001b[0;34m:\u001b[0m\u001b[0;32mbreak\u001b[0m\u001b[0;34m\u001b[0m\u001b[0m\n\u001b[1;32m     21\u001b[0m \u001b[0;34m\u001b[0m\u001b[0m\n\u001b[0;32m---> 22\u001b[0;31m         \u001b[0mloss\u001b[0m\u001b[0;34m,\u001b[0m\u001b[0mvalue\u001b[0m \u001b[0;34m=\u001b[0m \u001b[0mtrain_fun\u001b[0m\u001b[0;34m(\u001b[0m\u001b[0mb_text\u001b[0m\u001b[0;34m,\u001b[0m\u001b[0mb_title\u001b[0m\u001b[0;34m,\u001b[0m\u001b[0mb_keyw\u001b[0m\u001b[0;34m,\u001b[0m\u001b[0mb_cat\u001b[0m\u001b[0;34m,\u001b[0m\u001b[0mb_y\u001b[0m\u001b[0;34m)\u001b[0m\u001b[0;34m\u001b[0m\u001b[0m\n\u001b[0m\u001b[1;32m     23\u001b[0m \u001b[0;34m\u001b[0m\u001b[0m\n\u001b[1;32m     24\u001b[0m         \u001b[0mb_loss\u001b[0m \u001b[0;34m+=\u001b[0m \u001b[0mloss\u001b[0m\u001b[0;34m\u001b[0m\u001b[0m\n",
      "\u001b[0;32m/Users/vlad/Library/Python/3.5/lib/python/site-packages/theano/compile/function_module.py\u001b[0m in \u001b[0;36m__call__\u001b[0;34m(self, *args, **kwargs)\u001b[0m\n\u001b[1;32m    871\u001b[0m         \u001b[0;32mtry\u001b[0m\u001b[0;34m:\u001b[0m\u001b[0;34m\u001b[0m\u001b[0m\n\u001b[1;32m    872\u001b[0m             \u001b[0moutputs\u001b[0m \u001b[0;34m=\u001b[0m\u001b[0;31m\\\u001b[0m\u001b[0;34m\u001b[0m\u001b[0m\n\u001b[0;32m--> 873\u001b[0;31m                 \u001b[0mself\u001b[0m\u001b[0;34m.\u001b[0m\u001b[0mfn\u001b[0m\u001b[0;34m(\u001b[0m\u001b[0;34m)\u001b[0m \u001b[0;32mif\u001b[0m \u001b[0moutput_subset\u001b[0m \u001b[0;32mis\u001b[0m \u001b[0;32mNone\u001b[0m \u001b[0;32melse\u001b[0m\u001b[0;31m\\\u001b[0m\u001b[0;34m\u001b[0m\u001b[0m\n\u001b[0m\u001b[1;32m    874\u001b[0m                 \u001b[0mself\u001b[0m\u001b[0;34m.\u001b[0m\u001b[0mfn\u001b[0m\u001b[0;34m(\u001b[0m\u001b[0moutput_subset\u001b[0m\u001b[0;34m=\u001b[0m\u001b[0moutput_subset\u001b[0m\u001b[0;34m)\u001b[0m\u001b[0;34m\u001b[0m\u001b[0m\n\u001b[1;32m    875\u001b[0m         \u001b[0;32mexcept\u001b[0m \u001b[0mException\u001b[0m\u001b[0;34m:\u001b[0m\u001b[0;34m\u001b[0m\u001b[0m\n",
      "\u001b[0;32m/Users/vlad/Library/Python/3.5/lib/python/site-packages/theano/gof/op.py\u001b[0m in \u001b[0;36mrval\u001b[0;34m(p, i, o, n)\u001b[0m\n\u001b[1;32m    858\u001b[0m         \u001b[0;32mif\u001b[0m \u001b[0mparams\u001b[0m \u001b[0;32mis\u001b[0m \u001b[0mgraph\u001b[0m\u001b[0;34m.\u001b[0m\u001b[0mNoParams\u001b[0m\u001b[0;34m:\u001b[0m\u001b[0;34m\u001b[0m\u001b[0m\n\u001b[1;32m    859\u001b[0m             \u001b[0;31m# default arguments are stored in the closure of `rval`\u001b[0m\u001b[0;34m\u001b[0m\u001b[0;34m\u001b[0m\u001b[0m\n\u001b[0;32m--> 860\u001b[0;31m             \u001b[0;32mdef\u001b[0m \u001b[0mrval\u001b[0m\u001b[0;34m(\u001b[0m\u001b[0mp\u001b[0m\u001b[0;34m=\u001b[0m\u001b[0mp\u001b[0m\u001b[0;34m,\u001b[0m \u001b[0mi\u001b[0m\u001b[0;34m=\u001b[0m\u001b[0mnode_input_storage\u001b[0m\u001b[0;34m,\u001b[0m \u001b[0mo\u001b[0m\u001b[0;34m=\u001b[0m\u001b[0mnode_output_storage\u001b[0m\u001b[0;34m,\u001b[0m \u001b[0mn\u001b[0m\u001b[0;34m=\u001b[0m\u001b[0mnode\u001b[0m\u001b[0;34m)\u001b[0m\u001b[0;34m:\u001b[0m\u001b[0;34m\u001b[0m\u001b[0m\n\u001b[0m\u001b[1;32m    861\u001b[0m                 \u001b[0mr\u001b[0m \u001b[0;34m=\u001b[0m \u001b[0mp\u001b[0m\u001b[0;34m(\u001b[0m\u001b[0mn\u001b[0m\u001b[0;34m,\u001b[0m \u001b[0;34m[\u001b[0m\u001b[0mx\u001b[0m\u001b[0;34m[\u001b[0m\u001b[0;36m0\u001b[0m\u001b[0;34m]\u001b[0m \u001b[0;32mfor\u001b[0m \u001b[0mx\u001b[0m \u001b[0;32min\u001b[0m \u001b[0mi\u001b[0m\u001b[0;34m]\u001b[0m\u001b[0;34m,\u001b[0m \u001b[0mo\u001b[0m\u001b[0;34m)\u001b[0m\u001b[0;34m\u001b[0m\u001b[0m\n\u001b[1;32m    862\u001b[0m                 \u001b[0;32mfor\u001b[0m \u001b[0mo\u001b[0m \u001b[0;32min\u001b[0m \u001b[0mnode\u001b[0m\u001b[0;34m.\u001b[0m\u001b[0moutputs\u001b[0m\u001b[0;34m:\u001b[0m\u001b[0;34m\u001b[0m\u001b[0m\n",
      "\u001b[0;31mKeyboardInterrupt\u001b[0m: "
     ]
    }
   ],
   "source": [
    "from sklearn.metrics import precision_recall_curve, roc_auc_score, auc\n",
    "\n",
    "n_epochs = 100\n",
    "batch_size = 100\n",
    "minibatches_per_epoch = 50\n",
    "\n",
    "def pr_auc(y_true, y_pred):\n",
    "    pr, rec, _ = precision_recall_curve(y_true, y_pred)\n",
    "    return '%.3f' % auc(rec, pr)\n",
    "\n",
    "for i in range(n_epochs):\n",
    "    \n",
    "    #training\n",
    "    epoch_y_true = []\n",
    "    epoch_y_pred = []\n",
    "    \n",
    "    b_c = b_loss = 0\n",
    "    for j, (b_text,b_title,b_keyw, b_cat, b_y) in enumerate(\n",
    "        iterate_minibatches(text_tr,title_tr,keyw_tr,nontext_tr,target_tr,batchsize=batch_size,shuffle=True)):\n",
    "        if j > minibatches_per_epoch:break\n",
    "\n",
    "        loss,value = train_fun(b_text,b_title,b_keyw,b_cat,b_y)\n",
    "        \n",
    "        b_loss += loss\n",
    "        b_c +=1\n",
    "        \n",
    "        epoch_y_true.append(b_y)\n",
    "        epoch_y_pred.append(value)\n",
    "        print('.',end='')\n",
    "\n",
    "    \n",
    "    epoch_y_true = np.concatenate(epoch_y_true)\n",
    "    epoch_y_pred = np.concatenate(epoch_y_pred)\n",
    "    \n",
    "    print(\"\\nTrain:\")\n",
    "    print('\\tAverage loss:', b_loss/b_c)\n",
    "    print('\\tAUC:', ['%.3f' % roc_auc_score(epoch_y_true == i, epoch_y_pred[:,i]) for i in range(4)])\n",
    "    print('\\tPR AUC:',[pr_auc(epoch_y_true == i, epoch_y_pred[:,i]) for i in range(4)])\n",
    "    \n",
    "    \n",
    "    #evaluation\n",
    "    epoch_y_true = []\n",
    "    epoch_y_pred = []\n",
    "    b_c = b_loss = 0\n",
    "    for j, (b_desc,b_title,b_keyw,b_cat, b_y) in enumerate(\n",
    "        iterate_minibatches(text_ts,title_ts,keyw_ts,nontext_ts,target_ts,batchsize=batch_size,shuffle=True)):\n",
    "        if j > minibatches_per_epoch: break\n",
    "        loss,value = eval_fun(b_desc,b_title,b_keyw,b_cat,b_y)\n",
    "        \n",
    "        b_loss += loss\n",
    "        b_c +=1\n",
    "        \n",
    "        epoch_y_true.append(b_y)\n",
    "        epoch_y_pred.append(value)\n",
    "\n",
    "    \n",
    "    epoch_y_true = np.concatenate(epoch_y_true)\n",
    "    epoch_y_pred = np.concatenate(epoch_y_pred)\n",
    "    \n",
    "    print(\"Val:\")\n",
    "    print('\\tAverage loss:', b_loss/b_c)\n",
    "    print('\\tAUC:', ['%.3f' % roc_auc_score(epoch_y_true == i, epoch_y_pred[:,i]) for i in range(4)])\n",
    "    print('\\tPR AUC:',[pr_auc(epoch_y_true == i, epoch_y_pred[:,i]) for i in range(4)])"
   ]
  },
  {
   "cell_type": "code",
   "execution_count": 152,
   "metadata": {
    "collapsed": false
   },
   "outputs": [
    {
     "name": "stdout",
     "output_type": "stream",
     "text": [
      ".........................\n",
      "Confusion matrix\n",
      "[[264  14  39  12]\n",
      " [243  44  18   9]\n",
      " [228  27  24  14]\n",
      " [259  31  16   8]]\n",
      "AUC: ['0.622', '0.547', '0.520', '0.599']\n",
      "PR AUC: ['0.370', '0.277', '0.236', '0.286']\n"
     ]
    }
   ],
   "source": [
    "from sklearn.metrics import confusion_matrix, roc_curve\n",
    "\n",
    "epoch_y_true = []\n",
    "epoch_y_pred = []\n",
    "b_c = b_loss = 0\n",
    "for j, (b_desc,b_title,b_keyw,b_cat, b_y) in enumerate(\n",
    "    iterate_minibatches(text_ts,title_ts,keyw_ts,nontext_ts,target_ts,batchsize=batch_size//2,shuffle=True)):\n",
    "    loss,value = eval_fun(b_desc,b_title,b_keyw,b_cat,b_y)\n",
    "\n",
    "    b_loss += loss\n",
    "    b_c +=1\n",
    "\n",
    "    epoch_y_true.append(b_y)\n",
    "    epoch_y_pred.append(value)\n",
    "    print(end='.')\n",
    "\n",
    "\n",
    "epoch_y_true = np.concatenate(epoch_y_true)\n",
    "epoch_y_pred = np.concatenate(epoch_y_pred)\n",
    "\n",
    "print('\\nConfusion matrix')\n",
    "cm = confusion_matrix(epoch_y_true, np.argmax(epoch_y_pred, axis=1))\n",
    "print(cm)#/cm.sum(axis=1).reshape(-1,1))\n",
    "print('AUC:', ['%.3f' % roc_auc_score(epoch_y_true == i, epoch_y_pred[:,i]) for i in range(4)])\n",
    "print('PR AUC:',[pr_auc(epoch_y_true == i, epoch_y_pred[:,i]) for i in range(4)])"
   ]
  },
  {
   "cell_type": "code",
   "execution_count": null,
   "metadata": {
    "collapsed": false
   },
   "outputs": [],
   "source": []
  },
  {
   "cell_type": "code",
   "execution_count": 153,
   "metadata": {
    "collapsed": false
   },
   "outputs": [
    {
     "data": {
      "image/png": "[encoded data removed]",
      "text/plain": [
       "<matplotlib.figure.Figure at 0x11233e630>"
      ]
     },
     "metadata": {},
     "output_type": "display_data"
    }
   ],
   "source": [
    "classes = ['Zero', 'Bad', 'Medium', 'Good']\n",
    "plt.figure(figsize=(8,8))\n",
    "for i in range(4):\n",
    "    fpr, tpr, _ = roc_curve(epoch_y_true == i, epoch_y_pred[:,i])\n",
    "    plt.plot(fpr, tpr, label = classes[i] + '. AUC = %.3f' % roc_auc_score(epoch_y_true == i, epoch_y_pred[:,i]))\n",
    "plt.legend(loc='best')\n",
    "plt.xlabel('FPR')\n",
    "plt.ylabel('TPR')\n",
    "plt.title('ROC space');"
   ]
  },
  {
   "cell_type": "code",
   "execution_count": null,
   "metadata": {
    "collapsed": false
   },
   "outputs": [],
   "source": []
  },
  {
   "cell_type": "code",
   "execution_count": null,
   "metadata": {
    "collapsed": true
   },
   "outputs": [],
   "source": []
  }
 ],
 "metadata": {
  "anaconda-cloud": {},
  "kernelspec": {
   "display_name": "Python 3",
   "language": "python",
   "name": "python3"
  },
  "language_info": {
   "codemirror_mode": {
    "name": "ipython",
    "version": 3
   },
   "file_extension": ".py",
   "mimetype": "text/x-python",
   "name": "python",
   "nbconvert_exporter": "python",
   "pygments_lexer": "ipython3",
   "version": "3.5.2"
  }
 },
 "nbformat": 4,
 "nbformat_minor": 0
}
