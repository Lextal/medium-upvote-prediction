{
 "cells": [
  {
   "cell_type": "code",
   "execution_count": 128,
   "metadata": {
    "collapsed": false
   },
   "outputs": [],
   "source": [
    "import json\n",
    "import pandas as pd\n",
    "import numpy as np\n",
    "import datetime\n",
    "import matplotlib.pyplot as plt\n",
    "\n",
    "from textstat.textstat import textstat\n",
    "\n",
    "%matplotlib inline"
   ]
  },
  {
   "cell_type": "markdown",
   "metadata": {},
   "source": [
    "### Loading data for selection"
   ]
  },
  {
   "cell_type": "code",
   "execution_count": 277,
   "metadata": {
    "collapsed": true
   },
   "outputs": [],
   "source": [
    "considered_samples = 300000\n",
    "values_per_label = 12500"
   ]
  },
  {
   "cell_type": "code",
   "execution_count": 284,
   "metadata": {
    "collapsed": false
   },
   "outputs": [],
   "source": [
    "columns_full = ['title', 'keywords', 'readingTime', 'text']\n",
    "columns = ['title', 'keywords', 'readingTime', 'text', 'num_images', 'num_tags', 'count_tag_fol', \n",
    "           'count_tag_posts', 'weekday', 'seconds', 'count_words', 'FK_grade']\n",
    "\n",
    "def get_short_info(obj):\n",
    "    return [obj['likes']]\n",
    "\n",
    "def get_full_info(obj):\n",
    "    res = []\n",
    "    for col in columns_full:\n",
    "        if col == 'keywords':\n",
    "            res.append(' '.join(obj[col]))\n",
    "        else:\n",
    "            res.append(obj[col])\n",
    "            \n",
    "    res.append(len(obj['images']))\n",
    "    res.append(len(obj['tags']))\n",
    "    res.append(sum(list(map(lambda x: x['followerCount'], obj['tags']))))\n",
    "    res.append(sum(list(map(lambda x: x['postCount'], obj['tags']))))\n",
    "    \n",
    "    date = datetime.datetime.fromtimestamp(float(obj['date']['$numberLong'])/1000.)\n",
    "    res.append(date.weekday())\n",
    "    res.append(date.hour*60*60 + date.minute*60 + date.second)\n",
    "    res.append(len(obj['text'].split(' ')))\n",
    "    try:\n",
    "        res.append(textstat.flesch_kincaid_grade(obj['text']))\n",
    "    except Exception as e:\n",
    "        res.append(0)\n",
    "        \n",
    "    return res\n",
    "\n",
    "data = []\n",
    "ind = []\n",
    "\n",
    "for i, l in enumerate(open('data/medium.json')):\n",
    "    obj = json.loads(l)\n",
    "    ind.append(obj['id'])\n",
    "    data.append(get_short_info(obj))\n",
    "    if len(data) > considered_samples:\n",
    "        break"
   ]
  },
  {
   "cell_type": "code",
   "execution_count": 285,
   "metadata": {
    "collapsed": false
   },
   "outputs": [
    {
     "name": "stdout",
     "output_type": "stream",
     "text": [
      "125828\n",
      "128650\n",
      "34228\n",
      "11295\n"
     ]
    }
   ],
   "source": [
    "df = pd.DataFrame(data, index=ind, columns=['likes'])\n",
    "\n",
    "df['group'] = 0\n",
    "borders = [1e-20, 2, 4, np.inf]\n",
    "\n",
    "print(len(df[df.likes == 0]))\n",
    "\n",
    "bins = [df[df.likes == 0].sample(values_per_label, replace=True)]\n",
    "for i in range(1, len(borders)):\n",
    "    ins = np.logical_and(np.log1p(df.likes) < borders[i], np.log1p(df.likes) >= borders[i-1])\n",
    "    print(len(df[ins]))\n",
    "    df.loc[ins, 'group'] = i\n",
    "    bins.append(df[ins].sample(values_per_label, replace=True))\n",
    "    \n",
    "df = pd.concat(bins)"
   ]
  },
  {
   "cell_type": "code",
   "execution_count": 286,
   "metadata": {
    "collapsed": false
   },
   "outputs": [
    {
     "name": "stdout",
     "output_type": "stream",
     "text": [
      "..Error(ASyPW): Number of words are zero, cannot divide\n",
      "Error(ASyPW): Number of words are zero, cannot divide\n",
      "Error(ASyPW): Number of words are zero, cannot divide\n",
      ".Error(ASyPW): Number of words are zero, cannot divide\n",
      "Error(ASyPW): Number of words are zero, cannot divide\n",
      "Error(ASyPW): Number of words are zero, cannot divide\n",
      ".Error(ASyPW): Number of words are zero, cannot divide\n",
      ".Error(ASyPW): Number of words are zero, cannot divide\n",
      "Error(ASyPW): Number of words are zero, cannot divide\n",
      "Error(ASyPW): Number of words are zero, cannot divide\n",
      "Error(ASyPW): Number of words are zero, cannot divide\n",
      ".Error(ASyPW): Number of words are zero, cannot divide\n",
      "..Error(ASyPW): Number of words are zero, cannot divide\n",
      "..Error(ASyPW): Number of words are zero, cannot divide\n",
      ".Error(ASyPW): Number of words are zero, cannot divide\n",
      "..Error(ASyPW): Number of words are zero, cannot divide\n",
      ".Error(ASyPW): Number of words are zero, cannot divide\n",
      "Error(ASyPW): Number of words are zero, cannot divide\n",
      "....Error(ASyPW): Number of words are zero, cannot divide\n",
      "..Error(ASyPW): Number of words are zero, cannot divide\n",
      "Error(ASyPW): Number of words are zero, cannot divide\n",
      ".Error(ASyPW): Number of words are zero, cannot divide\n",
      "Error(ASyPW): Number of words are zero, cannot divide\n",
      ".....Error(ASyPW): Number of words are zero, cannot divide\n",
      "Error(ASyPW): Number of words are zero, cannot divide\n",
      "Error(ASyPW): Number of words are zero, cannot divide\n",
      "Error(ASyPW): Number of words are zero, cannot divide\n",
      "......Error(ASyPW): Number of words are zero, cannot divide\n",
      "Error(ASyPW): Number of words are zero, cannot divide\n",
      "..Error(ASyPW): Number of words are zero, cannot divide\n",
      "Error(ASyPW): Number of words are zero, cannot divide\n",
      ".Error(ASyPW): Number of words are zero, cannot divide\n",
      ".Error(ASyPW): Number of words are zero, cannot divide\n",
      "Error(ASyPW): Number of words are zero, cannot divide\n",
      ".Error(ASyPW): Number of words are zero, cannot divide\n",
      "..Error(ASyPW): Number of words are zero, cannot divide\n",
      ".Error(ASyPW): Number of words are zero, cannot divide\n",
      "..Error(ASyPW): Number of words are zero, cannot divide\n",
      ".Error(ASyPW): Number of words are zero, cannot divide\n",
      "Error(ASyPW): Number of words are zero, cannot divide\n",
      "Error(ASyPW): Number of words are zero, cannot divide\n",
      "Error(ASyPW): Number of words are zero, cannot divide\n",
      ".Error(ASyPW): Number of words are zero, cannot divide\n",
      "...Error(ASyPW): Number of words are zero, cannot divide\n",
      "...Error(ASyPW): Number of words are zero, cannot divide\n",
      ".Error(ASyPW): Number of words are zero, cannot divide\n",
      ".Error(ASyPW): Number of words are zero, cannot divide\n",
      "Error(ASyPW): Number of words are zero, cannot divide\n",
      ".Error(ASyPW): Number of words are zero, cannot divide\n",
      "....Error(ASyPW): Number of words are zero, cannot divide\n",
      ".Error(ASyPW): Number of words are zero, cannot divide\n",
      "...Error(ASyPW): Number of words are zero, cannot divide\n",
      "Error(ASyPW): Number of words are zero, cannot divide\n",
      "........Error(ASyPW): Number of words are zero, cannot divide\n",
      ".Error(ASyPW): Number of words are zero, cannot divide\n",
      "Error(ASyPW): Number of words are zero, cannot divide\n",
      "...Error(ASyPW): Number of words are zero, cannot divide\n",
      ".Error(ASyPW): Number of words are zero, cannot divide\n",
      "..Error(ASyPW): Number of words are zero, cannot divide\n",
      "Error(ASyPW): Number of words are zero, cannot divide\n",
      "........Error(ASyPW): Number of words are zero, cannot divide\n",
      "Error(ASyPW): Number of words are zero, cannot divide\n",
      ".......Error(ASyPW): Number of words are zero, cannot divide\n",
      ".Error(ASyPW): Number of words are zero, cannot divide\n",
      "Error(ASyPW): Number of words are zero, cannot divide\n",
      "Error(ASyPW): Number of words are zero, cannot divide\n",
      "Error(ASyPW): Number of words are zero, cannot divide\n",
      "Error(ASyPW): Number of words are zero, cannot divide\n",
      "Error(ASyPW): Number of words are zero, cannot divide\n",
      "....Error(ASyPW): Number of words are zero, cannot divide\n",
      ".Error(ASyPW): Number of words are zero, cannot divide\n",
      ".Error(ASyPW): Number of words are zero, cannot divide\n",
      ".Error(ASyPW): Number of words are zero, cannot divide\n",
      "..Error(ASyPW): Number of words are zero, cannot divide\n",
      ".Error(ASyPW): Number of words are zero, cannot divide\n",
      "Error(ASyPW): Number of words are zero, cannot divide\n",
      "Error(ASyPW): Number of words are zero, cannot divide\n",
      "Error(ASyPW): Number of words are zero, cannot divide\n",
      "..Error(ASyPW): Number of words are zero, cannot divide\n",
      "...Error(ASyPW): Number of words are zero, cannot divide\n",
      "Error(ASyPW): Number of words are zero, cannot divide\n",
      ".Error(ASyPW): Number of words are zero, cannot divide\n",
      ".Error(ASyPW): Number of words are zero, cannot divide\n",
      "..Error(ASyPW): Number of words are zero, cannot divide\n",
      ".Error(ASyPW): Number of words are zero, cannot divide\n",
      "Error(ASyPW): Number of words are zero, cannot divide\n",
      "Error(ASyPW): Number of words are zero, cannot divide\n",
      "..Error(ASyPW): Number of words are zero, cannot divide\n",
      ".Error(ASyPW): Number of words are zero, cannot divide\n",
      "Error(ASyPW): Number of words are zero, cannot divide\n",
      "....Error(ASyPW): Number of words are zero, cannot divide\n",
      "Error(ASyPW): Number of words are zero, cannot divide\n",
      ".Error(ASyPW): Number of words are zero, cannot divide\n",
      "Error(ASyPW): Number of words are zero, cannot divide\n",
      ".Error(ASyPW): Number of words are zero, cannot divide\n",
      ".Error(ASyPW): Number of words are zero, cannot divide\n",
      ".Error(ASyPW): Number of words are zero, cannot divide\n",
      "Error(ASyPW): Number of words are zero, cannot divide\n",
      "Error(ASyPW): Number of words are zero, cannot divide\n",
      "Error(ASyPW): Number of words are zero, cannot divide\n",
      "..Error(ASyPW): Number of words are zero, cannot divide\n",
      "Error(ASyPW): Number of words are zero, cannot divide\n",
      "...Error(ASyPW): Number of words are zero, cannot divide\n",
      ".Error(ASyPW): Number of words are zero, cannot divide\n",
      ".Error(ASyPW): Number of words are zero, cannot divide\n",
      "Error(ASyPW): Number of words are zero, cannot divide\n",
      ".Error(ASyPW): Number of words are zero, cannot divide\n",
      ".....Error(ASyPW): Number of words are zero, cannot divide\n",
      "......Error(ASyPW): Number of words are zero, cannot divide\n",
      "Error(ASyPW): Number of words are zero, cannot divide\n",
      ".Error(ASyPW): Number of words are zero, cannot divide\n",
      "....Error(ASyPW): Number of words are zero, cannot divide\n",
      "Error(ASyPW): Number of words are zero, cannot divide\n",
      ".Error(ASyPW): Number of words are zero, cannot divide\n",
      ".........Error(ASyPW): Number of words are zero, cannot divide\n",
      "Error(ASyPW): Number of words are zero, cannot divide\n",
      ".Error(ASyPW): Number of words are zero, cannot divide\n",
      "Error(ASyPW): Number of words are zero, cannot divide\n",
      "Error(ASyPW): Number of words are zero, cannot divide\n",
      "Error(ASyPW): Number of words are zero, cannot divide\n",
      "Error(ASyPW): Number of words are zero, cannot divide\n",
      ".Error(ASyPW): Number of words are zero, cannot divide\n",
      "Error(ASyPW): Number of words are zero, cannot divide\n",
      ".Error(ASyPW): Number of words are zero, cannot divide\n",
      "Error(ASyPW): Number of words are zero, cannot divide\n",
      "Error(ASyPW): Number of words are zero, cannot divide\n",
      "......Error(ASyPW): Number of words are zero, cannot divide\n",
      "Error(ASyPW): Number of words are zero, cannot divide\n",
      ".Error(ASyPW): Number of words are zero, cannot divide\n",
      ".Error(ASyPW): Number of words are zero, cannot divide\n",
      ".Error(ASyPW): Number of words are zero, cannot divide\n",
      "Error(ASyPW): Number of words are zero, cannot divide\n",
      "....Error(ASyPW): Number of words are zero, cannot divide\n",
      "..Error(ASyPW): Number of words are zero, cannot divide\n",
      "Error(ASyPW): Number of words are zero, cannot divide\n",
      "..Error(ASyPW): Number of words are zero, cannot divide\n",
      "Error(ASyPW): Number of words are zero, cannot divide\n",
      "Error(ASyPW): Number of words are zero, cannot divide\n",
      "Error(ASyPW): Number of words are zero, cannot divide\n",
      ".Error(ASyPW): Number of words are zero, cannot divide\n",
      ".Error(ASyPW): Number of words are zero, cannot divide\n",
      ".........Error(ASyPW): Number of words are zero, cannot divide\n",
      "Error(ASyPW): Number of words are zero, cannot divide\n",
      ".Error(ASyPW): Number of words are zero, cannot divide\n",
      "Error(ASyPW): Number of words are zero, cannot divide\n",
      ".Error(ASyPW): Number of words are zero, cannot divide\n",
      "...Error(ASyPW): Number of words are zero, cannot divide\n",
      ".Error(ASyPW): Number of words are zero, cannot divide\n",
      "....Error(ASyPW): Number of words are zero, cannot divide\n",
      "Error(ASyPW): Number of words are zero, cannot divide\n",
      "Error(ASyPW): Number of words are zero, cannot divide\n",
      "Error(ASyPW): Number of words are zero, cannot divide\n",
      "Error(ASyPW): Number of words are zero, cannot divide\n",
      "..Error(ASyPW): Number of words are zero, cannot divide\n",
      ".Error(ASyPW): Number of words are zero, cannot divide\n",
      "Error(ASyPW): Number of words are zero, cannot divide\n",
      "Error(ASyPW): Number of words are zero, cannot divide\n",
      "Error(ASyPW): Number of words are zero, cannot divide\n",
      "Error(ASyPW): Number of words are zero, cannot divide\n",
      ".Error(ASyPW): Number of words are zero, cannot divide\n",
      "....Error(ASyPW): Number of words are zero, cannot divide\n",
      "Error(ASyPW): Number of words are zero, cannot divide\n",
      ".Error(ASyPW): Number of words are zero, cannot divide\n",
      "Error(ASyPW): Number of words are zero, cannot divide\n",
      ".Error(ASyPW): Number of words are zero, cannot divide\n",
      ".....Error(ASyPW): Number of words are zero, cannot divide\n",
      ".......Error(ASyPW): Number of words are zero, cannot divide\n",
      "Error(ASyPW): Number of words are zero, cannot divide\n",
      ".Error(ASyPW): Number of words are zero, cannot divide\n",
      ".Error(ASyPW): Number of words are zero, cannot divide\n",
      ".Error(ASyPW): Number of words are zero, cannot divide\n",
      ".Error(ASyPW): Number of words are zero, cannot divide\n",
      "Error(ASyPW): Number of words are zero, cannot divide\n",
      ".....Error(ASyPW): Number of words are zero, cannot divide\n",
      "Error(ASyPW): Number of words are zero, cannot divide\n",
      ".Error(ASyPW): Number of words are zero, cannot divide\n",
      "Error(ASyPW): Number of words are zero, cannot divide\n",
      "Error(ASyPW): Number of words are zero, cannot divide\n",
      "...Error(ASyPW): Number of words are zero, cannot divide\n",
      "....Error(ASyPW): Number of words are zero, cannot divide\n",
      ".Error(ASyPW): Number of words are zero, cannot divide\n",
      "Error(ASyPW): Number of words are zero, cannot divide\n",
      "Error(ASyPW): Number of words are zero, cannot divide\n",
      "..Error(ASyPW): Number of words are zero, cannot divide\n",
      "Error(ASyPW): Number of words are zero, cannot divide\n",
      ".Error(ASyPW): Number of words are zero, cannot divide\n",
      ".Error(ASyPW): Number of words are zero, cannot divide\n",
      ".....Error(ASyPW): Number of words are zero, cannot divide\n",
      "Error(ASyPW): Number of words are zero, cannot divide\n",
      ".Error(ASyPW): Number of words are zero, cannot divide\n",
      "....Error(ASyPW): Number of words are zero, cannot divide\n",
      "........Error(ASyPW): Number of words are zero, cannot divide\n",
      ".Error(ASyPW): Number of words are zero, cannot divide\n",
      "....Error(ASyPW): Number of words are zero, cannot divide\n",
      "Error(ASyPW): Number of words are zero, cannot divide\n",
      "Error(ASyPW): Number of words are zero, cannot divide\n",
      "Error(ASyPW): Number of words are zero, cannot divide\n",
      "......Error(ASyPW): Number of words are zero, cannot divide\n",
      "Error(ASyPW): Number of words are zero, cannot divide\n",
      "Error(ASyPW): Number of words are zero, cannot divide\n",
      ".Error(ASyPW): Number of words are zero, cannot divide\n",
      "..Error(ASyPW): Number of words are zero, cannot divide\n",
      "....Error(ASyPW): Number of words are zero, cannot divide\n",
      "...Error(ASyPW): Number of words are zero, cannot divide\n",
      ".Error(ASyPW): Number of words are zero, cannot divide\n",
      "Error(ASyPW): Number of words are zero, cannot divide\n",
      "Error(ASyPW): Number of words are zero, cannot divide\n",
      "Error(ASyPW): Number of words are zero, cannot divide\n",
      "Error(ASyPW): Number of words are zero, cannot divide\n",
      "Error(ASyPW): Number of words are zero, cannot divide\n",
      "Error(ASyPW): Number of words are zero, cannot divide\n",
      ".Error(ASyPW): Number of words are zero, cannot divide\n",
      "Error(ASyPW): Number of words are zero, cannot divide\n",
      "Error(ASyPW): Number of words are zero, cannot divide\n",
      "Error(ASyPW): Number of words are zero, cannot divide\n",
      "Error(ASyPW): Number of words are zero, cannot divide\n",
      ".Error(ASyPW): Number of words are zero, cannot divide\n",
      "Error(ASyPW): Number of words are zero, cannot divide\n",
      "..Error(ASyPW): Number of words are zero, cannot divide\n",
      "..Error(ASyPW): Number of words are zero, cannot divide\n",
      "Error(ASyPW): Number of words are zero, cannot divide\n",
      ".Error(ASyPW): Number of words are zero, cannot divide\n",
      "..Error(ASyPW): Number of words are zero, cannot divide\n",
      ".Error(ASyPW): Number of words are zero, cannot divide\n",
      "Error(ASyPW): Number of words are zero, cannot divide\n",
      "....Error(ASyPW): Number of words are zero, cannot divide\n",
      "Error(ASyPW): Number of words are zero, cannot divide\n",
      "Error(ASyPW): Number of words are zero, cannot divide\n",
      "...Error(ASyPW): Number of words are zero, cannot divide\n",
      ".Error(ASyPW): Number of words are zero, cannot divide\n",
      "."
     ]
    }
   ],
   "source": [
    "ind = df.index\n",
    "new_info = {}\n",
    "\n",
    "count = 0\n",
    "for i, l in enumerate(open('data/medium.json')):\n",
    "    obj = json.loads(l)\n",
    "    if i > considered_samples:\n",
    "        break\n",
    "    if i % 1000 == 0:\n",
    "        print('.', end='')\n",
    "    if obj['id'] in ind and obj['id'] not in new_info:\n",
    "        new_info[obj['id']] = get_full_info(obj)"
   ]
  },
  {
   "cell_type": "code",
   "execution_count": 287,
   "metadata": {
    "collapsed": false
   },
   "outputs": [
    {
     "data": {
      "text/html": [
       "<div>\n",
       "<table border=\"1\" class=\"dataframe\">\n",
       "  <thead>\n",
       "    <tr style=\"text-align: right;\">\n",
       "      <th></th>\n",
       "      <th>likes</th>\n",
       "      <th>group</th>\n",
       "      <th>title</th>\n",
       "      <th>keywords</th>\n",
       "      <th>readingTime</th>\n",
       "      <th>text</th>\n",
       "      <th>num_images</th>\n",
       "      <th>num_tags</th>\n",
       "      <th>count_tag_fol</th>\n",
       "      <th>count_tag_posts</th>\n",
       "      <th>weekday</th>\n",
       "      <th>seconds</th>\n",
       "      <th>count_words</th>\n",
       "      <th>FK_grade</th>\n",
       "    </tr>\n",
       "  </thead>\n",
       "  <tbody>\n",
       "    <tr>\n",
       "      <th>100527abd288</th>\n",
       "      <td>9</td>\n",
       "      <td>2</td>\n",
       "      <td>Backwoods, Pennsylvania</td>\n",
       "      <td>Horror Hiking Abandoned Short Story Investigation</td>\n",
       "      <td>9.355660</td>\n",
       "      <td>It was 5:27 on Monday night, October 17th, and...</td>\n",
       "      <td>7</td>\n",
       "      <td>5</td>\n",
       "      <td>286227</td>\n",
       "      <td>42579</td>\n",
       "      <td>3</td>\n",
       "      <td>76335</td>\n",
       "      <td>2154</td>\n",
       "      <td>7.5</td>\n",
       "    </tr>\n",
       "    <tr>\n",
       "      <th>1005e11d0736</th>\n",
       "      <td>0</td>\n",
       "      <td>0</td>\n",
       "      <td>Leitura aconselhada</td>\n",
       "      <td>Livros Criancas Pais E Filhos Bébéu Bebes</td>\n",
       "      <td>0.960692</td>\n",
       "      <td>Adoro livros para crianças e dou muita importâ...</td>\n",
       "      <td>2</td>\n",
       "      <td>5</td>\n",
       "      <td>387</td>\n",
       "      <td>1514</td>\n",
       "      <td>3</td>\n",
       "      <td>61524</td>\n",
       "      <td>147</td>\n",
       "      <td>9.4</td>\n",
       "    </tr>\n",
       "    <tr>\n",
       "      <th>10064c2cabe2</th>\n",
       "      <td>36</td>\n",
       "      <td>2</td>\n",
       "      <td>The Day I Stayed Seated</td>\n",
       "      <td>Music Piano Divorce Memoir High School</td>\n",
       "      <td>3.196226</td>\n",
       "      <td>I learned to stand for myself the day I stayed...</td>\n",
       "      <td>1</td>\n",
       "      <td>5</td>\n",
       "      <td>179046</td>\n",
       "      <td>22280</td>\n",
       "      <td>0</td>\n",
       "      <td>78779</td>\n",
       "      <td>775</td>\n",
       "      <td>5.1</td>\n",
       "    </tr>\n",
       "    <tr>\n",
       "      <th>1006b69b5b75</th>\n",
       "      <td>0</td>\n",
       "      <td>0</td>\n",
       "      <td>3/100</td>\n",
       "      <td>Fiction Short Story Life</td>\n",
       "      <td>1.418868</td>\n",
       "      <td>Louise sat in the bed and took a final look ar...</td>\n",
       "      <td>1</td>\n",
       "      <td>3</td>\n",
       "      <td>1273818</td>\n",
       "      <td>155241</td>\n",
       "      <td>3</td>\n",
       "      <td>2153</td>\n",
       "      <td>320</td>\n",
       "      <td>5.4</td>\n",
       "    </tr>\n",
       "    <tr>\n",
       "      <th>10075f2fd906</th>\n",
       "      <td>0</td>\n",
       "      <td>0</td>\n",
       "      <td>The 7 Types of People You Meet at the Gym</td>\n",
       "      <td>Fitness Weightlifting Comedy Writing Lol Gym</td>\n",
       "      <td>2.555660</td>\n",
       "      <td>Appearance: Whether their headphones are in or...</td>\n",
       "      <td>7</td>\n",
       "      <td>5</td>\n",
       "      <td>4062</td>\n",
       "      <td>18244</td>\n",
       "      <td>2</td>\n",
       "      <td>11139</td>\n",
       "      <td>369</td>\n",
       "      <td>7.0</td>\n",
       "    </tr>\n",
       "  </tbody>\n",
       "</table>\n",
       "</div>"
      ],
      "text/plain": [
       "              likes  group                                      title  \\\n",
       "100527abd288      9      2                    Backwoods, Pennsylvania   \n",
       "1005e11d0736      0      0                        Leitura aconselhada   \n",
       "10064c2cabe2     36      2                    The Day I Stayed Seated   \n",
       "1006b69b5b75      0      0                                      3/100   \n",
       "10075f2fd906      0      0  The 7 Types of People You Meet at the Gym   \n",
       "\n",
       "                                                       keywords  readingTime  \\\n",
       "100527abd288  Horror Hiking Abandoned Short Story Investigation     9.355660   \n",
       "1005e11d0736          Livros Criancas Pais E Filhos Bébéu Bebes     0.960692   \n",
       "10064c2cabe2             Music Piano Divorce Memoir High School     3.196226   \n",
       "1006b69b5b75                           Fiction Short Story Life     1.418868   \n",
       "10075f2fd906       Fitness Weightlifting Comedy Writing Lol Gym     2.555660   \n",
       "\n",
       "                                                           text  num_images  \\\n",
       "100527abd288  It was 5:27 on Monday night, October 17th, and...           7   \n",
       "1005e11d0736  Adoro livros para crianças e dou muita importâ...           2   \n",
       "10064c2cabe2  I learned to stand for myself the day I stayed...           1   \n",
       "1006b69b5b75  Louise sat in the bed and took a final look ar...           1   \n",
       "10075f2fd906  Appearance: Whether their headphones are in or...           7   \n",
       "\n",
       "              num_tags  count_tag_fol  count_tag_posts  weekday  seconds  \\\n",
       "100527abd288         5         286227            42579        3    76335   \n",
       "1005e11d0736         5            387             1514        3    61524   \n",
       "10064c2cabe2         5         179046            22280        0    78779   \n",
       "1006b69b5b75         3        1273818           155241        3     2153   \n",
       "10075f2fd906         5           4062            18244        2    11139   \n",
       "\n",
       "              count_words  FK_grade  \n",
       "100527abd288         2154       7.5  \n",
       "1005e11d0736          147       9.4  \n",
       "10064c2cabe2          775       5.1  \n",
       "1006b69b5b75          320       5.4  \n",
       "10075f2fd906          369       7.0  "
      ]
     },
     "execution_count": 287,
     "metadata": {},
     "output_type": "execute_result"
    }
   ],
   "source": [
    "new_df = pd.DataFrame.from_dict(new_info, orient='index')\n",
    "new_df.columns = columns\n",
    "df = pd.merge(df, new_df, 'inner', left_index=True, right_index=True)\n",
    "\n",
    "df.head()"
   ]
  },
  {
   "cell_type": "markdown",
   "metadata": {},
   "source": [
    "### Prepare text features"
   ]
  },
  {
   "cell_type": "code",
   "execution_count": 288,
   "metadata": {
    "collapsed": false
   },
   "outputs": [],
   "source": [
    "from sklearn.feature_extraction.text import HashingVectorizer\n",
    "all_texts = np.hstack([df.text.values,df.title.values,df.keywords])\n",
    "\n",
    "hv = HashingVectorizer(ngram_range=(1,3), n_features=2**15)\n",
    "text_features = hv.fit_transform(all_texts)"
   ]
  },
  {
   "cell_type": "code",
   "execution_count": 289,
   "metadata": {
    "collapsed": false
   },
   "outputs": [],
   "source": [
    "text_tokens = text_features[:values_per_label*4]\n",
    "title_tokens = text_features[values_per_label*4:8*values_per_label]\n",
    "keywords_tokens = text_features[8*values_per_label:]"
   ]
  },
  {
   "cell_type": "markdown",
   "metadata": {},
   "source": [
    "### Train/test splitting"
   ]
  },
  {
   "cell_type": "code",
   "execution_count": 290,
   "metadata": {
    "collapsed": false
   },
   "outputs": [],
   "source": [
    "indexes = df.index.values\n",
    "target = df.group.values.astype('int8')\n",
    "\n",
    "num_cols = ['readingTime', 'num_images', 'num_tags', 'count_tag_fol', 'count_tag_posts', 'weekday', 'seconds', 'count_words']\n",
    "df_non_text = df[num_cols].values.astype('float32')"
   ]
  },
  {
   "cell_type": "code",
   "execution_count": 291,
   "metadata": {
    "collapsed": false
   },
   "outputs": [],
   "source": [
    "from sklearn.model_selection import train_test_split\n",
    "data_tuple = train_test_split(indexes,title_tokens,text_tokens,keywords_tokens,df_non_text,target)\n",
    "\n",
    "ind_tr,ind_ts,title_tr,title_ts,text_tr,text_ts,keyw_tr,keyw_ts,nontext_tr,nontext_ts,target_tr,target_ts = data_tuple"
   ]
  },
  {
   "cell_type": "markdown",
   "metadata": {
    "collapsed": false
   },
   "source": [
    "### Save (load) progress"
   ]
  },
  {
   "cell_type": "code",
   "execution_count": 292,
   "metadata": {
    "collapsed": false
   },
   "outputs": [],
   "source": [
    "import pickle\n",
    "\n",
    "# Save\n",
    "\n",
    "# with open(\"preprocessed_data_dense.pcl\",'wb') as fout:\n",
    "#     pickle.dump(data_tuple,fout)\n",
    "\n",
    "# Load\n",
    "\n",
    "with open(\"preprocessed_data_dense.pcl\",'rb') as fin:\n",
    "    data_tuple = pickle.load(fin)\n",
    "ind_tr,ind_ts,title_tr,title_ts,text_tr,text_ts,keyw_tr,keyw_ts,nontext_tr,nontext_ts,target_tr,target_ts = data_tuple\n"
   ]
  },
  {
   "cell_type": "code",
   "execution_count": 206,
   "metadata": {
    "collapsed": true
   },
   "outputs": [],
   "source": [
    "###############################################\n",
    "## If you want to append some extra features ##\n",
    "##      there is the best place for them     ##\n",
    "###############################################"
   ]
  },
  {
   "cell_type": "markdown",
   "metadata": {},
   "source": [
    "### NN Stuff"
   ]
  },
  {
   "cell_type": "code",
   "execution_count": 304,
   "metadata": {
    "collapsed": false
   },
   "outputs": [],
   "source": [
    "import lasagne\n",
    "from theano import tensor as T\n",
    "import theano\n",
    "\n",
    "title_token_ids = T.matrix(\"title_token_ids\",dtype='float64')\n",
    "text_token_ids = T.matrix(\"text_token_ids\",dtype='float64')\n",
    "keyw_token_ids = T.matrix(\"keyw_token_ids\",dtype='float64')\n",
    "non_text = T.matrix(\"non_text\",dtype='float64')\n",
    "target_y = T.ivector(\"group\")"
   ]
  },
  {
   "cell_type": "code",
   "execution_count": 305,
   "metadata": {
    "collapsed": false
   },
   "outputs": [],
   "source": [
    "###########\n",
    "## Input ##\n",
    "###########\n",
    "\n",
    "title_inp = lasagne.layers.InputLayer((None,title_tr.shape[1]),input_var=title_token_ids)\n",
    "text_inp = lasagne.layers.InputLayer((None,text_tr.shape[1]),input_var=text_token_ids)\n",
    "keyw_inp = lasagne.layers.InputLayer((None,keyw_tr.shape[1]),input_var=keyw_token_ids)\n",
    "cat_inp = lasagne.layers.InputLayer((None,df_non_text.shape[1]), input_var=non_text)\n",
    "\n",
    "####################\n",
    "## Parallel Convs ##\n",
    "####################\n",
    "\n",
    "text_nn = lasagne.layers.DenseLayer(text_inp, 512)\n",
    "text_nn = lasagne.layers.BatchNormLayer(text_nn)\n",
    "\n",
    "title_nn = lasagne.layers.DenseLayer(title_inp, 512)\n",
    "title_nn = lasagne.layers.BatchNormLayer(title_nn)\n",
    "\n",
    "keyw_nn = lasagne.layers.DenseLayer(keyw_inp, 512)\n",
    "keyw_nn = lasagne.layers.BatchNormLayer(keyw_nn)\n",
    "\n",
    "cat_nn = lasagne.layers.DenseLayer(cat_inp, 512)\n",
    "cat_nn = lasagne.layers.BatchNormLayer(cat_nn)\n",
    "\n",
    "########################\n",
    "## Merging and Output ##\n",
    "########################\n",
    "\n",
    "nn = lasagne.layers.concat([text_nn, title_nn, keyw_nn, cat_nn])                               \n",
    "nn = lasagne.layers.DenseLayer(nn,128, nonlinearity=lasagne.nonlinearities.sigmoid)\n",
    "nn = lasagne.layers.DropoutLayer(nn,p=0.05)\n",
    "nn = lasagne.layers.DenseLayer(nn,4,nonlinearity=lasagne.nonlinearities.softmax)"
   ]
  },
  {
   "cell_type": "code",
   "execution_count": 306,
   "metadata": {
    "collapsed": false
   },
   "outputs": [],
   "source": [
    "weights = lasagne.layers.get_all_params(nn,trainable=True)\n",
    "prediction = lasagne.layers.get_output(nn)\n",
    "\n",
    "loss = lasagne.objectives.multiclass_hinge_loss(prediction, target_y).mean()\n",
    "updates = lasagne.updates.adadelta(loss, weights)\n",
    "\n",
    "det_prediction = lasagne.layers.get_output(nn,deterministic=True)\n",
    "det_loss = lasagne.objectives.multiclass_hinge_loss(det_prediction, target_y).mean()"
   ]
  },
  {
   "cell_type": "code",
   "execution_count": 307,
   "metadata": {
    "collapsed": false
   },
   "outputs": [],
   "source": [
    "train_fun = theano.function([text_token_ids,title_token_ids,keyw_token_ids,non_text,target_y],[loss,prediction],updates = updates)\n",
    "eval_fun = theano.function([text_token_ids,title_token_ids,keyw_token_ids,non_text,target_y],[det_loss,det_prediction])"
   ]
  },
  {
   "cell_type": "markdown",
   "metadata": {
    "collapsed": false
   },
   "source": [
    "### Minibatch training"
   ]
  },
  {
   "cell_type": "code",
   "execution_count": null,
   "metadata": {
    "collapsed": false
   },
   "outputs": [],
   "source": [
    "def iterate_minibatches(*arrays,**kwargs):\n",
    "    \n",
    "    batchsize=kwargs.get(\"batchsize\",100)\n",
    "    shuffle = kwargs.get(\"shuffle\",True)\n",
    "    \n",
    "    if shuffle:\n",
    "        indices = np.arange(len(arrays[-1]))\n",
    "        np.random.shuffle(indices)\n",
    "    for start_idx in range(0, len(arrays[-1]) - batchsize + 1, batchsize):\n",
    "        if shuffle:\n",
    "            excerpt = indices[start_idx:start_idx + batchsize]\n",
    "        else:\n",
    "            excerpt = slice(start_idx, start_idx + batchsize)\n",
    "        yield [arr[excerpt] for arr in arrays]"
   ]
  },
  {
   "cell_type": "code",
   "execution_count": null,
   "metadata": {
    "collapsed": false
   },
   "outputs": [
    {
     "name": "stdout",
     "output_type": "stream",
     "text": [
      "..................................................."
     ]
    }
   ],
   "source": [
    "from sklearn.metrics import precision_recall_curve, roc_auc_score, auc\n",
    "from scipy.sparse import csr_matrix\n",
    "\n",
    "n_epochs = 100\n",
    "batch_size = 100\n",
    "minibatches_per_epoch = 100\n",
    "\n",
    "def pr_auc(y_true, y_pred):\n",
    "    pr, rec, _ = precision_recall_curve(y_true, y_pred)\n",
    "    return '%.3f' % auc(rec, pr)\n",
    "\n",
    "for i in range(n_epochs):\n",
    "    \n",
    "    #training\n",
    "    epoch_y_true = []\n",
    "    epoch_y_pred = []\n",
    "    \n",
    "    b_c = b_loss = 0\n",
    "    for j, (b_text,b_title,b_keyw, b_cat, b_y) in enumerate(\n",
    "        iterate_minibatches(text_tr,title_tr,keyw_tr,nontext_tr,target_tr,batchsize=batch_size,shuffle=True)):\n",
    "        if j > minibatches_per_epoch:break\n",
    "        loss,value = train_fun(b_text.toarray(),b_title.toarray(),b_keyw.toarray(),b_cat,b_y)\n",
    "        \n",
    "        b_loss += loss\n",
    "        b_c +=1\n",
    "        \n",
    "        epoch_y_true.append(b_y)\n",
    "        epoch_y_pred.append(value)\n",
    "        print('.',end='')\n",
    "\n",
    "    \n",
    "    epoch_y_true = np.concatenate(epoch_y_true)\n",
    "    epoch_y_pred = np.concatenate(epoch_y_pred)\n",
    "    \n",
    "    print(\"\\nTrain:\")\n",
    "    print('\\tAverage loss:', b_loss/b_c)\n",
    "    print('\\tAUC:', ['%.3f' % roc_auc_score(epoch_y_true == i, epoch_y_pred[:,i]) for i in range(4)])\n",
    "    print('\\tPR AUC:',[pr_auc(epoch_y_true == i, epoch_y_pred[:,i]) for i in range(4)])\n",
    "    \n",
    "    \n",
    "    #evaluation\n",
    "    epoch_y_true = []\n",
    "    epoch_y_pred = []\n",
    "    b_c = b_loss = 0\n",
    "    for j, (b_text,b_title,b_keyw,b_cat, b_y) in enumerate(\n",
    "        iterate_minibatches(text_ts,title_ts,keyw_ts,nontext_ts,target_ts,batchsize=batch_size,shuffle=True)):\n",
    "        if j > minibatches_per_epoch: break\n",
    "        loss,value = eval_fun(b_text.toarray(),b_title.toarray(),b_keyw.toarray(),b_cat,b_y)\n",
    "        \n",
    "        b_loss += loss\n",
    "        b_c +=1\n",
    "        \n",
    "        epoch_y_true.append(b_y)\n",
    "        epoch_y_pred.append(value)\n",
    "\n",
    "    \n",
    "    epoch_y_true = np.concatenate(epoch_y_true)\n",
    "    epoch_y_pred = np.concatenate(epoch_y_pred)\n",
    "    \n",
    "    print(\"Val:\")\n",
    "    print('\\tAverage loss:', b_loss/b_c)\n",
    "    print('\\tAUC:', ['%.3f' % roc_auc_score(epoch_y_true == i, epoch_y_pred[:,i]) for i in range(4)])\n",
    "    print('\\tPR AUC:',[pr_auc(epoch_y_true == i, epoch_y_pred[:,i]) for i in range(4)])"
   ]
  },
  {
   "cell_type": "code",
   "execution_count": 299,
   "metadata": {
    "collapsed": false
   },
   "outputs": [
    {
     "name": "stdout",
     "output_type": "stream",
     "text": [
      "..........................................................................................................................................................................................................................................................\n",
      "Confusion matrix\n",
      "[[  0.00000000e+00   9.99031321e-01   0.00000000e+00   9.68679367e-04]\n",
      " [  0.00000000e+00   9.99687988e-01   3.12012480e-04   0.00000000e+00]\n",
      " [  0.00000000e+00   9.98676373e-01   6.61813369e-04   6.61813369e-04]\n",
      " [  0.00000000e+00   9.94017632e-01   9.44584383e-04   5.03778338e-03]]\n",
      "AUC: ['0.715', '0.461', '0.539', '0.737']\n",
      "PR AUC: ['0.406', '0.231', '0.271', '0.398']\n"
     ]
    }
   ],
   "source": [
    "from sklearn.metrics import confusion_matrix, roc_curve\n",
    "\n",
    "epoch_y_true = []\n",
    "epoch_y_pred = []\n",
    "b_c = b_loss = 0\n",
    "for j, (b_text,b_title,b_keyw,b_cat, b_y) in enumerate(\n",
    "    iterate_minibatches(text_ts,title_ts,keyw_ts,nontext_ts,target_ts,batchsize=batch_size//2,shuffle=True)):\n",
    "    loss,value = eval_fun(b_text.toarray(),b_title.toarray(),b_keyw.toarray(),b_cat,b_y)\n",
    "\n",
    "    b_loss += loss\n",
    "    b_c +=1\n",
    "\n",
    "    epoch_y_true.append(b_y)\n",
    "    epoch_y_pred.append(value)\n",
    "    print(end='.')\n",
    "\n",
    "\n",
    "epoch_y_true = np.concatenate(epoch_y_true)\n",
    "epoch_y_pred = np.concatenate(epoch_y_pred)\n",
    "\n",
    "print('\\nConfusion matrix')\n",
    "cm = confusion_matrix(epoch_y_true, np.argmax(epoch_y_pred, axis=1))\n",
    "print(cm/cm.sum(axis=1).reshape(-1,1))\n",
    "print('AUC:', ['%.3f' % roc_auc_score(epoch_y_true == i, epoch_y_pred[:,i]) for i in range(4)])\n",
    "print('PR AUC:',[pr_auc(epoch_y_true == i, epoch_y_pred[:,i]) for i in range(4)])"
   ]
  },
  {
   "cell_type": "code",
   "execution_count": null,
   "metadata": {
    "collapsed": false
   },
   "outputs": [],
   "source": []
  },
  {
   "cell_type": "code",
   "execution_count": 300,
   "metadata": {
    "collapsed": false
   },
   "outputs": [
    {
     "data": {
      "image/png": "[encoded data removed]",
      "text/plain": [
       "<matplotlib.figure.Figure at 0x1153ec080>"
      ]
     },
     "metadata": {},
     "output_type": "display_data"
    }
   ],
   "source": [
    "classes = ['Zero', 'Bad', 'Medium', 'Good']\n",
    "plt.figure(figsize=(8,8))\n",
    "for i in range(4):\n",
    "    fpr, tpr, _ = roc_curve(epoch_y_true == i, epoch_y_pred[:,i])\n",
    "    plt.plot(fpr, tpr, label = classes[i] + '. AUC = %.3f' % roc_auc_score(epoch_y_true == i, epoch_y_pred[:,i]))\n",
    "plt.legend(loc='best')\n",
    "plt.xlabel('FPR')\n",
    "plt.ylabel('TPR')\n",
    "plt.title('ROC space');"
   ]
  },
  {
   "cell_type": "code",
   "execution_count": 301,
   "metadata": {
    "collapsed": false
   },
   "outputs": [
    {
     "data": {
      "text/plain": [
       "array([3097, 3205, 3022, 3176])"
      ]
     },
     "execution_count": 301,
     "metadata": {},
     "output_type": "execute_result"
    }
   ],
   "source": [
    "np.bincount(epoch_y_true)"
   ]
  },
  {
   "cell_type": "code",
   "execution_count": 302,
   "metadata": {
    "collapsed": false
   },
   "outputs": [
    {
     "data": {
      "text/plain": [
       "array([    0, 12473,     6,    21])"
      ]
     },
     "execution_count": 302,
     "metadata": {},
     "output_type": "execute_result"
    }
   ],
   "source": [
    "np.bincount(np.argmax(epoch_y_pred, axis=1))"
   ]
  },
  {
   "cell_type": "code",
   "execution_count": null,
   "metadata": {
    "collapsed": true
   },
   "outputs": [],
   "source": []
  }
 ],
 "metadata": {
  "anaconda-cloud": {},
  "kernelspec": {
   "display_name": "Python 3",
   "language": "python",
   "name": "python3"
  },
  "language_info": {
   "codemirror_mode": {
    "name": "ipython",
    "version": 3
   },
   "file_extension": ".py",
   "mimetype": "text/x-python",
   "name": "python",
   "nbconvert_exporter": "python",
   "pygments_lexer": "ipython3",
   "version": "3.5.2"
  }
 },
 "nbformat": 4,
 "nbformat_minor": 0
}
